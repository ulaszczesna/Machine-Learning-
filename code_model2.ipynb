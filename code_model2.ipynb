{
 "cells": [
  {
   "cell_type": "code",
   "execution_count": 3,
   "metadata": {},
   "outputs": [
    {
     "name": "stderr",
     "output_type": "stream",
     "text": [
      "C:\\Users\\ulasz\\AppData\\Roaming\\Python\\Python39\\site-packages\\pandas\\core\\computation\\expressions.py:21: UserWarning: Pandas requires version '2.8.4' or newer of 'numexpr' (version '2.8.1' currently installed).\n",
      "  from pandas.core.computation.check import NUMEXPR_INSTALLED\n",
      "C:\\Users\\ulasz\\AppData\\Roaming\\Python\\Python39\\site-packages\\pandas\\core\\arrays\\masked.py:60: UserWarning: Pandas requires version '1.3.6' or newer of 'bottleneck' (version '1.3.4' currently installed).\n",
      "  from pandas.core import (\n"
     ]
    }
   ],
   "source": [
    "import pandas as pd\n",
    "import seaborn as sns\n",
    "import numpy as np\n",
    "import matplotlib.pyplot as plt\n",
    "from sklearn.dummy import DummyClassifier\n",
    "from sklearn.preprocessing import MinMaxScaler\n",
    "from sklearn.pipeline import Pipeline\n",
    "from sklearn.compose import ColumnTransformer\n",
    "from sklearn.metrics import classification_report, confusion_matrix\n",
    "from sklearn.tree import DecisionTreeClassifier\n",
    "from sklearn.neighbors import KNeighborsClassifier\n",
    "from sklearn.linear_model import LogisticRegression\n",
    "from sklearn.svm import SVC\n",
    "from sklearn.naive_bayes import GaussianNB\n",
    "from sklearn.model_selection import cross_validate\n",
    "from sklearn.model_selection import KFold\n",
    "from sklearn.model_selection import GridSearchCV\n",
    "from sklearn.metrics import classification_report\n",
    "from sklearn.ensemble import RandomForestClassifier\n",
    "from sklearn.feature_selection import SelectKBest, chi2\n",
    "from sklearn.metrics import accuracy_score\n",
    "from sklearn.ensemble import StackingClassifier\n",
    "import warnings\n",
    "warnings.filterwarnings(\"ignore\")"
   ]
  },
  {
   "cell_type": "code",
   "execution_count": 4,
   "metadata": {},
   "outputs": [],
   "source": [
    "# wczytanie danych\n",
    "train_data = pd.read_csv('train_data.csv')\n",
    "test_data = pd.read_csv('test_data.csv')"
   ]
  },
  {
   "cell_type": "code",
   "execution_count": 5,
   "metadata": {},
   "outputs": [],
   "source": [
    "#pipeline do obróbki danych\n",
    "cols_numerical = ['battery_power', 'blue', 'clock_speed', 'dual_sim', 'fc', 'four_g',\n",
    "       'int_memory', 'm_dep', 'mobile_wt', 'n_cores', 'pc', 'px_height',\n",
    "       'px_width', 'ram', 'sc_h', 'sc_w', 'talk_time', 'three_g',\n",
    "       'touch_screen', 'wifi']\n",
    "\n",
    "transformer_numerical = Pipeline(steps = [\n",
    "    ('num_trans', MinMaxScaler())\n",
    "])\n",
    "\n",
    "preprocessor = ColumnTransformer(transformers = [\n",
    "    ('numerical', transformer_numerical, cols_numerical)\n",
    "])\n",
    "\n",
    "pipe = Pipeline(steps = [\n",
    "                ('preprocessor', preprocessor)\n",
    "            ])\n"
   ]
  },
  {
   "cell_type": "code",
   "execution_count": 6,
   "metadata": {},
   "outputs": [],
   "source": [
    "scaled_train_data = pipe.fit_transform(train_data)\n",
    "X_train = pd.DataFrame(scaled_train_data, columns=cols_numerical)\n",
    "y_train = train_data['price_range'].values.ravel()\n",
    "scaled_test_data = pipe.fit_transform(test_data)\n",
    "X_test = pd.DataFrame(scaled_test_data, columns=cols_numerical)\n",
    "y_test = test_data['price_range'].values.ravel()"
   ]
  },
  {
   "cell_type": "markdown",
   "metadata": {},
   "source": [
    "SelectKBest z modelem KNN"
   ]
  },
  {
   "cell_type": "code",
   "execution_count": 7,
   "metadata": {},
   "outputs": [
    {
     "name": "stdout",
     "output_type": "stream",
     "text": [
      "k=1, Accuracy=0.78\n",
      "Selected Features:\n",
      "Index(['ram'], dtype='object')\n",
      "\n",
      "k=2, Accuracy=0.79\n",
      "Selected Features:\n",
      "Index(['battery_power', 'ram'], dtype='object')\n",
      "\n",
      "k=3, Accuracy=0.9525\n",
      "Selected Features:\n",
      "Index(['battery_power', 'px_width', 'ram'], dtype='object')\n",
      "\n",
      "k=4, Accuracy=0.925\n",
      "Selected Features:\n",
      "Index(['battery_power', 'px_height', 'px_width', 'ram'], dtype='object')\n",
      "\n",
      "k=5, Accuracy=0.925\n",
      "Selected Features:\n",
      "Index(['battery_power', 'int_memory', 'px_height', 'px_width', 'ram'], dtype='object')\n",
      "\n",
      "k=6, Accuracy=0.91\n",
      "Selected Features:\n",
      "Index(['battery_power', 'int_memory', 'px_height', 'px_width', 'ram',\n",
      "       'touch_screen'],\n",
      "      dtype='object')\n",
      "\n",
      "k=7, Accuracy=0.8925\n",
      "Selected Features:\n",
      "Index(['battery_power', 'int_memory', 'mobile_wt', 'px_height', 'px_width',\n",
      "       'ram', 'touch_screen'],\n",
      "      dtype='object')\n",
      "\n",
      "k=8, Accuracy=0.885\n",
      "Selected Features:\n",
      "Index(['battery_power', 'blue', 'int_memory', 'mobile_wt', 'px_height',\n",
      "       'px_width', 'ram', 'touch_screen'],\n",
      "      dtype='object')\n",
      "\n",
      "k=9, Accuracy=0.845\n",
      "Selected Features:\n",
      "Index(['battery_power', 'blue', 'four_g', 'int_memory', 'mobile_wt',\n",
      "       'px_height', 'px_width', 'ram', 'touch_screen'],\n",
      "      dtype='object')\n",
      "\n",
      "k=10, Accuracy=0.8375\n",
      "Selected Features:\n",
      "Index(['battery_power', 'blue', 'four_g', 'int_memory', 'mobile_wt',\n",
      "       'px_height', 'px_width', 'ram', 'sc_h', 'touch_screen'],\n",
      "      dtype='object')\n",
      "\n",
      "k=11, Accuracy=0.825\n",
      "Selected Features:\n",
      "Index(['battery_power', 'blue', 'four_g', 'int_memory', 'm_dep', 'mobile_wt',\n",
      "       'px_height', 'px_width', 'ram', 'sc_h', 'touch_screen'],\n",
      "      dtype='object')\n",
      "\n",
      "k=12, Accuracy=0.7975\n",
      "Selected Features:\n",
      "Index(['battery_power', 'blue', 'four_g', 'int_memory', 'm_dep', 'mobile_wt',\n",
      "       'n_cores', 'px_height', 'px_width', 'ram', 'sc_h', 'touch_screen'],\n",
      "      dtype='object')\n",
      "\n",
      "k=13, Accuracy=0.7875\n",
      "Selected Features:\n",
      "Index(['battery_power', 'blue', 'four_g', 'int_memory', 'm_dep', 'mobile_wt',\n",
      "       'n_cores', 'px_height', 'px_width', 'ram', 'sc_h', 'talk_time',\n",
      "       'touch_screen'],\n",
      "      dtype='object')\n",
      "\n",
      "k=14, Accuracy=0.77\n",
      "Selected Features:\n",
      "Index(['battery_power', 'blue', 'clock_speed', 'four_g', 'int_memory', 'm_dep',\n",
      "       'mobile_wt', 'n_cores', 'px_height', 'px_width', 'ram', 'sc_h',\n",
      "       'talk_time', 'touch_screen'],\n",
      "      dtype='object')\n",
      "\n",
      "k=15, Accuracy=0.7575\n",
      "Selected Features:\n",
      "Index(['battery_power', 'blue', 'clock_speed', 'fc', 'four_g', 'int_memory',\n",
      "       'm_dep', 'mobile_wt', 'n_cores', 'px_height', 'px_width', 'ram', 'sc_h',\n",
      "       'talk_time', 'touch_screen'],\n",
      "      dtype='object')\n",
      "\n",
      "k=16, Accuracy=0.76\n",
      "Selected Features:\n",
      "Index(['battery_power', 'blue', 'clock_speed', 'dual_sim', 'fc', 'four_g',\n",
      "       'int_memory', 'm_dep', 'mobile_wt', 'n_cores', 'px_height', 'px_width',\n",
      "       'ram', 'sc_h', 'talk_time', 'touch_screen'],\n",
      "      dtype='object')\n",
      "\n",
      "k=17, Accuracy=0.7325\n",
      "Selected Features:\n",
      "Index(['battery_power', 'blue', 'clock_speed', 'dual_sim', 'fc', 'four_g',\n",
      "       'int_memory', 'm_dep', 'mobile_wt', 'n_cores', 'px_height', 'px_width',\n",
      "       'ram', 'sc_h', 'talk_time', 'touch_screen', 'wifi'],\n",
      "      dtype='object')\n",
      "\n",
      "k=18, Accuracy=0.73\n",
      "Selected Features:\n",
      "Index(['battery_power', 'blue', 'clock_speed', 'dual_sim', 'fc', 'four_g',\n",
      "       'int_memory', 'm_dep', 'mobile_wt', 'n_cores', 'px_height', 'px_width',\n",
      "       'ram', 'sc_h', 'sc_w', 'talk_time', 'touch_screen', 'wifi'],\n",
      "      dtype='object')\n",
      "\n",
      "k=19, Accuracy=0.715\n",
      "Selected Features:\n",
      "Index(['battery_power', 'blue', 'clock_speed', 'dual_sim', 'fc', 'four_g',\n",
      "       'int_memory', 'm_dep', 'mobile_wt', 'n_cores', 'px_height', 'px_width',\n",
      "       'ram', 'sc_h', 'sc_w', 'talk_time', 'three_g', 'touch_screen', 'wifi'],\n",
      "      dtype='object')\n",
      "\n",
      "k=20, Accuracy=0.7325\n",
      "Selected Features:\n",
      "Index(['battery_power', 'blue', 'clock_speed', 'dual_sim', 'fc', 'four_g',\n",
      "       'int_memory', 'm_dep', 'mobile_wt', 'n_cores', 'pc', 'px_height',\n",
      "       'px_width', 'ram', 'sc_h', 'sc_w', 'talk_time', 'three_g',\n",
      "       'touch_screen', 'wifi'],\n",
      "      dtype='object')\n",
      "\n"
     ]
    }
   ],
   "source": [
    "# zakres wartości k (liczba kolumn w orginalnej ramce danych)\n",
    "k_values = range(1, 21)\n",
    "\n",
    "\n",
    "results = {}\n",
    "\n",
    "\n",
    "for k in k_values:\n",
    "\n",
    "    pipeline = Pipeline([\n",
    "        ('select_k_best', SelectKBest(score_func=chi2, k=k)),\n",
    "        ('knn', KNeighborsClassifier())\n",
    "    ])\n",
    "\n",
    "    # siatka parametrów\n",
    "    param_grid = {\n",
    "        'knn__n_neighbors': [3, 5, 7],\n",
    "        'knn__weights': ['uniform', 'distance']\n",
    "    }\n",
    "\n",
    "\n",
    "    grid_search = GridSearchCV(pipeline, param_grid, cv=5)\n",
    "    grid_search.fit(X_train, y_train)\n",
    "\n",
    "\n",
    "    best_model = grid_search.best_estimator_\n",
    "\n",
    "\n",
    "    y_pred = best_model.predict(X_test)\n",
    "\n",
    "    accuracy = accuracy_score(y_test, y_pred)\n",
    "\n",
    "    results[k] = {\n",
    "        'accuracy': accuracy,\n",
    "        'selected_features': X_train.columns[best_model.named_steps['select_k_best'].get_support()]\n",
    "    }\n",
    "\n",
    "# Wydrukuj wyniki\n",
    "for k, result in results.items():\n",
    "    print(f\"k={k}, Accuracy={result['accuracy']}\")\n",
    "    print(\"Selected Features:\")\n",
    "    print(result['selected_features'])\n",
    "    print()"
   ]
  },
  {
   "cell_type": "markdown",
   "metadata": {},
   "source": [
    "Najlepsze accuracy wyszło dla k = 3 i k = 4, a dodatkowo zmienne px_width i px_height są mocno skorelowane więc stworzymy nową kolumnę która jest iloczynem tych dwóch, czyli polem powierzchni wyświetlacza"
   ]
  },
  {
   "cell_type": "code",
   "execution_count": 9,
   "metadata": {},
   "outputs": [],
   "source": [
    "#łączymy px height i width\n",
    "X_train['px_area'] = X_train['px_height'] * X_train['px_width']\n",
    "X_test['px_area'] = X_test['px_height'] * X_test['px_width']\n",
    "X_train = X_train[['battery_power', 'px_area', 'ram']]\n",
    "X_test = X_test[['battery_power', 'px_area', 'ram']]\n",
    "\n"
   ]
  },
  {
   "cell_type": "markdown",
   "metadata": {},
   "source": [
    "Crossvalidation na całym zbiorze"
   ]
  },
  {
   "cell_type": "code",
   "execution_count": 10,
   "metadata": {},
   "outputs": [],
   "source": [
    "# łączymy ze sobą dane treningowe i testowe do crossvalidation\n",
    "X = pd.concat([X_test, X_train], axis=0)\n",
    "y = np.concatenate([y_test, y_train])\n"
   ]
  },
  {
   "cell_type": "markdown",
   "metadata": {},
   "source": [
    "Za pomocą crossvalidation wybieramy najlepsze hiperparmetry dla KNN, SVM i DecisionTree a potem na nich robimy stacking"
   ]
  },
  {
   "cell_type": "code",
   "execution_count": 17,
   "metadata": {},
   "outputs": [
    {
     "name": "stdout",
     "output_type": "stream",
     "text": [
      "Classification Report:\n",
      "              precision    recall  f1-score   support\n",
      "\n",
      "           0       1.00      0.99      0.99        94\n",
      "           1       0.95      1.00      0.98        98\n",
      "           2       0.98      0.94      0.96        99\n",
      "           3       0.98      0.98      0.98       109\n",
      "\n",
      "    accuracy                           0.98       400\n",
      "   macro avg       0.98      0.98      0.98       400\n",
      "weighted avg       0.98      0.98      0.98       400\n",
      "\n"
     ]
    }
   ],
   "source": [
    "knn = KNeighborsClassifier()\n",
    "svm = SVC()\n",
    "decision_tree = DecisionTreeClassifier()\n",
    "param_grid_knn = {\n",
    "    'n_neighbors': [3, 5, 7],\n",
    "    'weights': ['uniform', 'distance']\n",
    "}\n",
    "\n",
    "\n",
    "param_grid_svm = {\n",
    "    'C': [0.1, 1, 10],\n",
    "    'kernel': ['linear', 'rbf']\n",
    "}\n",
    "\n",
    "\n",
    "param_grid_decision_tree = {\n",
    "    'max_depth': [None, 5, 10, 20],\n",
    "    'min_samples_split': [2, 5, 10]\n",
    "}\n",
    "\n",
    "\n",
    "grid_search_knn = GridSearchCV(knn, param_grid_knn, cv=5)\n",
    "grid_search_knn.fit(X_train, y_train)\n",
    "best_knn = grid_search_knn.best_estimator_\n",
    "\n",
    "\n",
    "grid_search_svm = GridSearchCV(svm, param_grid_svm, cv=5)\n",
    "grid_search_svm.fit(X_train, y_train)\n",
    "best_svm = grid_search_svm.best_estimator_\n",
    "\n",
    "\n",
    "grid_search_decision_tree = GridSearchCV(decision_tree, param_grid_decision_tree, cv=5)\n",
    "grid_search_decision_tree.fit(X_train, y_train)\n",
    "best_decision_tree = grid_search_decision_tree.best_estimator_\n",
    "\n",
    "\n",
    "stacked_model = StackingClassifier(\n",
    "    estimators=[('knn', best_knn), ('svm', best_svm), ('decision_tree', best_decision_tree)],\n",
    "    final_estimator=LogisticRegression()\n",
    ")\n",
    "\n",
    "\n",
    "stacked_model.fit(X_train, y_train)\n",
    "\n",
    "y_pred = stacked_model.predict(X_test)\n",
    "\n",
    "\n",
    "print(\"Classification Report:\")\n",
    "print(classification_report(y_test, y_pred))\n",
    "\n"
   ]
  },
  {
   "cell_type": "code",
   "execution_count": 12,
   "metadata": {},
   "outputs": [],
   "source": [
    "cm = confusion_matrix(y_test, y_pred)"
   ]
  },
  {
   "cell_type": "code",
   "execution_count": 13,
   "metadata": {},
   "outputs": [
    {
     "data": {
      "image/png": "[encoded data removed]",
      "text/plain": [
       "<Figure size 576x432 with 1 Axes>"
      ]
     },
     "metadata": {
      "needs_background": "light"
     },
     "output_type": "display_data"
    }
   ],
   "source": [
    "plt.figure(figsize=(8, 6))\n",
    "sns.heatmap(cm, annot=True, fmt='d', cmap='Blues', cbar=False)\n",
    "plt.xlabel('Predicted labels')\n",
    "plt.ylabel('True labels')\n",
    "plt.title('Confusion Matrix')\n",
    "plt.show()"
   ]
  },
  {
   "cell_type": "markdown",
   "metadata": {},
   "source": [
    "Za pomocą crossvalidation określamy średni wynik naszego finalnego modelu"
   ]
  },
  {
   "cell_type": "code",
   "execution_count": 14,
   "metadata": {},
   "outputs": [
    {
     "name": "stdout",
     "output_type": "stream",
     "text": [
      "Stacked Model:\n",
      "fit_time\n",
      "Średnia: 0.29168736934661865, Odchylenie standardowe: 0.022213394787708233\n",
      "score_time\n",
      "Średnia: 0.022921323776245117, Odchylenie standardowe: 0.001986152900416372\n",
      "test_accuracy\n",
      "Średnia: 0.9414804025582469, Odchylenie standardowe: 0.016377895099262532\n",
      "test_precision_macro\n",
      "Średnia: 0.9410845557131386, Odchylenie standardowe: 0.01617204102802497\n",
      "test_recall_macro\n",
      "Średnia: 0.9418730346357229, Odchylenie standardowe: 0.01519052908542549\n",
      "test_f1_macro\n",
      "Średnia: 0.941286440611316, Odchylenie standardowe: 0.01580293240275708\n",
      "\n"
     ]
    }
   ],
   "source": [
    "scoring = ['accuracy', 'precision_macro', 'recall_macro', 'f1_macro']\n",
    "\n",
    "\n",
    "results = {}\n",
    "\n",
    "\n",
    "kfold = KFold(n_splits=6, shuffle=True, random_state=1)\n",
    "\n",
    "\n",
    "pipeline = Pipeline([('classifier', stacked_model)])\n",
    "cv_results = cross_validate(pipeline, X, y, cv=kfold, scoring=scoring)\n",
    "\n",
    "\n",
    "results['Stacked Model'] = cv_results\n",
    "\n",
    "\n",
    "for name, result in results.items():\n",
    "    print(f'{name}:')\n",
    "    for metric, scores in result.items():\n",
    "        print(f'{metric}')\n",
    "        print(f'Średnia: {scores.mean()}, Odchylenie standardowe: {scores.std()}')\n",
    "    print()"
   ]
  },
  {
   "cell_type": "code",
   "execution_count": 15,
   "metadata": {},
   "outputs": [
    {
     "data": {
      "image/png": "[encoded data removed]",
      "text/plain": [
       "<Figure size 720x432 with 1 Axes>"
      ]
     },
     "metadata": {
      "needs_background": "light"
     },
     "output_type": "display_data"
    }
   ],
   "source": [
    "import matplotlib.pyplot as plt\n",
    "\n",
    "\n",
    "metrics = ['test_accuracy', 'test_precision_macro', 'test_recall_macro', 'test_f1_macro']\n",
    "\n",
    "\n",
    "fig, ax = plt.subplots(figsize=(10, 6))\n",
    "\n",
    "\n",
    "metric_scores = [results['Stacked Model'][metric] for metric in metrics]\n",
    "\n",
    "\n",
    "ax.boxplot(metric_scores, labels=[metric.split('_')[-1].capitalize() for metric in metrics])\n",
    "ax.set_xlabel('Metric')\n",
    "ax.set_ylabel('Score')\n",
    "ax.set_title('Boxplot of Metrics for Stacked Model')\n",
    "\n",
    "plt.show()\n"
   ]
  },
  {
   "cell_type": "code",
   "execution_count": null,
   "metadata": {},
   "outputs": [],
   "source": []
  }
 ],
 "metadata": {
  "kernelspec": {
   "display_name": "Python 3 (ipykernel)",
   "language": "python",
   "name": "python3"
  },
  "language_info": {
   "codemirror_mode": {
    "name": "ipython",
    "version": 3
   },
   "file_extension": ".py",
   "mimetype": "text/x-python",
   "name": "python",
   "nbconvert_exporter": "python",
   "pygments_lexer": "ipython3",
   "version": "3.9.12"
  }
 },
 "nbformat": 4,
 "nbformat_minor": 2
}
