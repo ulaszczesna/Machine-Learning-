{
 "cells": [
  {
   "cell_type": "code",
   "execution_count": 16,
   "id": "0e824d7b",
   "metadata": {},
   "outputs": [],
   "source": [
    "import pandas as pd\n",
    "import seaborn as sns\n",
    "import numpy as np\n",
    "import matplotlib.pyplot as plt\n",
    "from sklearn.dummy import DummyClassifier\n",
    "from sklearn.preprocessing import MinMaxScaler\n",
    "from sklearn.pipeline import Pipeline\n",
    "from sklearn.compose import ColumnTransformer\n",
    "from sklearn.metrics import classification_report, confusion_matrix\n",
    "from sklearn.tree import DecisionTreeClassifier\n",
    "from sklearn.neighbors import KNeighborsClassifier\n",
    "from sklearn.linear_model import LogisticRegression\n",
    "from sklearn.svm import SVC\n",
    "from sklearn.naive_bayes import GaussianNB\n",
    "from sklearn.model_selection import cross_validate\n",
    "from sklearn.model_selection import KFold\n",
    "from sklearn.model_selection import GridSearchCV\n",
    "from sklearn.metrics import classification_report\n",
    "from sklearn.ensemble import RandomForestClassifier\n",
    "from sklearn.feature_selection import SelectKBest, chi2\n",
    "from sklearn.metrics import accuracy_score, f1_score\n",
    "from sklearn.model_selection import cross_val_score\n",
    "from sklearn.ensemble import StackingClassifier\n",
    "import warnings\n",
    "warnings.filterwarnings(\"ignore\")"
   ]
  },
  {
   "cell_type": "code",
   "execution_count": 2,
   "id": "5d6f5bfb",
   "metadata": {},
   "outputs": [],
   "source": [
    "train_data = pd.read_csv('train_data.csv')\n",
    "test_data = pd.read_csv('test_data.csv')"
   ]
  },
  {
   "cell_type": "code",
   "execution_count": 3,
   "id": "f7257034",
   "metadata": {},
   "outputs": [],
   "source": [
    "#pipeline do obróbki danych\n",
    "cols_numerical = ['battery_power', 'blue', 'clock_speed', 'dual_sim', 'fc', 'four_g',\n",
    "       'int_memory', 'm_dep', 'mobile_wt', 'n_cores', 'pc', 'px_height',\n",
    "       'px_width', 'ram', 'sc_h', 'sc_w', 'talk_time', 'three_g',\n",
    "       'touch_screen', 'wifi']\n",
    "\n",
    "transformer_numerical = Pipeline(steps = [\n",
    "    ('num_trans', MinMaxScaler())\n",
    "])\n",
    "\n",
    "preprocessor = ColumnTransformer(transformers = [\n",
    "    ('numerical', transformer_numerical, cols_numerical)\n",
    "])\n",
    "\n",
    "pipe = Pipeline(steps = [\n",
    "                ('preprocessor', preprocessor)\n",
    "            ])"
   ]
  },
  {
   "cell_type": "code",
   "execution_count": 4,
   "id": "e0dda8c1",
   "metadata": {},
   "outputs": [],
   "source": [
    "scaled_train_data = pipe.fit_transform(train_data)\n",
    "X_train = pd.DataFrame(scaled_train_data, columns=cols_numerical)\n",
    "y_train = train_data['price_range'].values.ravel()\n",
    "scaled_test_data = pipe.fit_transform(test_data)\n",
    "X_test = pd.DataFrame(scaled_test_data, columns=cols_numerical)\n",
    "y_test = test_data['price_range'].values.ravel()"
   ]
  },
  {
   "cell_type": "code",
   "execution_count": 6,
   "id": "60bcf264",
   "metadata": {},
   "outputs": [],
   "source": [
    "#łączymy px height i width\n",
    "X_train2 = X_train\n",
    "X_test2 = X_test\n",
    "X_train2['px_area'] = X_train['px_height'] * X_train['px_width']\n",
    "X_test2['px_area'] = X_test['px_height'] * X_test['px_width']\n",
    "X_train2 = X_train2[['battery_power', 'px_area', 'ram']]\n",
    "X_test2 = X_test2[['battery_power', 'px_area', 'ram']]"
   ]
  },
  {
   "cell_type": "code",
   "execution_count": 7,
   "id": "201e3835",
   "metadata": {},
   "outputs": [],
   "source": [
    "# łączymy ze sobą dane treningowe i testowe do crossvalidation\n",
    "X = pd.concat([X_test, X_train], axis=0)\n",
    "y = np.concatenate([y_test, y_train])\n",
    "# łączymy ze sobą dane treningowe i testowe do crossvalidation\n",
    "X2 = pd.concat([X_test2, X_train2], axis=0)\n",
    "y2 = np.concatenate([y_test, y_train])\n"
   ]
  },
  {
   "cell_type": "code",
   "execution_count": null,
   "id": "6d6a52c1",
   "metadata": {},
   "outputs": [],
   "source": []
  },
  {
   "cell_type": "code",
   "execution_count": 19,
   "id": "4c77060c",
   "metadata": {},
   "outputs": [],
   "source": [
    "final_model = LogisticRegression(max_iter=6000, solver='saga', penalty = 'none', C = 0.001, l1_ratio = 0.1 )\n",
    "knn = ('knn', KNeighborsClassifier(n_neighbors=7, weights='distance'))\n",
    "svm = ('svm', SVC(C=1))\n",
    "decision_tree = ('decision_tree', DecisionTreeClassifier(max_depth=20))\n",
    "\n",
    "\n",
    "stacked_model = StackingClassifier(\n",
    "    estimators=[knn, svm, decision_tree],\n",
    "    final_estimator=LogisticRegression()\n",
    ")\n"
   ]
  },
  {
   "cell_type": "code",
   "execution_count": 37,
   "id": "917aa07b",
   "metadata": {},
   "outputs": [],
   "source": [
    "cv_scores1 = cross_val_score(final_model, X, y, cv=8, scoring='accuracy')\n",
    "cv_scores2 = cross_val_score(stacked_model, X2, y2, cv=8, scoring='accuracy')"
   ]
  },
  {
   "cell_type": "code",
   "execution_count": 38,
   "id": "b1e6c6cb",
   "metadata": {},
   "outputs": [
    {
     "name": "stdout",
     "output_type": "stream",
     "text": [
      "Cross-validation scores for Logistic Regression: [0.992 0.964 0.98  0.976 0.968 0.964 0.948 0.98 ]\n",
      "Mean cross-validation accuracy for Logistic Regression: 0.9715\n",
      "Cross-validation scores for Stacked Model: [0.98  0.94  0.96  0.944 0.916 0.944 0.904 0.92 ]\n",
      "Mean cross-validation accuracy for Stacked Model: 0.9385\n"
     ]
    }
   ],
   "source": [
    "print(f'Cross-validation scores for Logistic Regression: {cv_scores1}')\n",
    "print(f'Mean cross-validation accuracy for Logistic Regression: {cv_scores1.mean()}')\n",
    "print(f'Cross-validation scores for Stacked Model: {cv_scores2}')\n",
    "print(f'Mean cross-validation accuracy for Stacked Model: {cv_scores2.mean()}')"
   ]
  },
  {
   "cell_type": "code",
   "execution_count": 52,
   "id": "d1a2a836",
   "metadata": {},
   "outputs": [
    {
     "data": {
      "image/png": "[encoded data removed]",
      "text/plain": [
       "<Figure size 576x432 with 1 Axes>"
      ]
     },
     "metadata": {
      "needs_background": "light"
     },
     "output_type": "display_data"
    }
   ],
   "source": [
    "all_cv_scores = [cv_scores1, cv_scores2]\n",
    "\n",
    "\n",
    "labels = ['Logistic Regression', 'Stacked Model']\n",
    "\n",
    "\n",
    "plt.figure(figsize=(8, 6))\n",
    "plt.boxplot(all_cv_scores, labels=labels)\n",
    "plt.title('Cross - validaton for selected models')\n",
    "plt.xlabel('Model')\n",
    "plt.ylabel('Accuracy')\n",
    "plt.savefig('cross_validation.png', dpi = 300)"
   ]
  },
  {
   "cell_type": "code",
   "execution_count": 41,
   "id": "a39d0428",
   "metadata": {},
   "outputs": [],
   "source": [
    "from sklearn.model_selection import cross_val_predict\n",
    "from sklearn.metrics import confusion_matrix\n",
    "\n",
    "y_pred_final = cross_val_predict(final_model, X, y, cv=7)\n",
    "\n",
    "# Oblicz macierz pomyłek dla final_model\n",
    "cm_final = confusion_matrix(y, y_pred_final)\n",
    "\n",
    "\n",
    "\n",
    "y_pred_stacked = cross_val_predict(stacked_model, X2, y2, cv=7)\n",
    "\n",
    "cm_stacked = confusion_matrix(y, y_pred_stacked)\n"
   ]
  },
  {
   "cell_type": "code",
   "execution_count": 53,
   "id": "fad8e251",
   "metadata": {},
   "outputs": [
    {
     "data": {
      "image/png": "[encoded data removed]",
      "text/plain": [
       "<Figure size 1080x504 with 2 Axes>"
      ]
     },
     "metadata": {
      "needs_background": "light"
     },
     "output_type": "display_data"
    }
   ],
   "source": [
    "fig, axs = plt.subplots(1, 2, figsize=(15, 7))\n",
    "\n",
    "# Plot dla final_model\n",
    "sns.heatmap(cm_final, annot=True, cmap='Blues', fmt='d',cbar = False, ax=axs[0])\n",
    "axs[0].set_title('Confusion matrix for Logistic Regression')\n",
    "axs[0].set_xlabel('Predicted labels')\n",
    "axs[0].set_ylabel('True labels')\n",
    "\n",
    "# Plot dla stacked_model\n",
    "sns.heatmap(cm_stacked, annot=True, fmt='d', cmap='Blues', cbar=False, ax=axs[1])\n",
    "axs[1].set_title('Confusion matrix for Stacked Classifier')\n",
    "axs[1].set_xlabel('Predicted labels')\n",
    "axs[1].set_ylabel('True labels')\n",
    "\n",
    "plt.tight_layout()\n",
    "plt.savefig('confusion_matrices.png', dpi = 300)"
   ]
  },
  {
   "cell_type": "code",
   "execution_count": null,
   "id": "5e77c5ff",
   "metadata": {},
   "outputs": [],
   "source": []
  }
 ],
 "metadata": {
  "kernelspec": {
   "display_name": "Python 3 (ipykernel)",
   "language": "python",
   "name": "python3"
  },
  "language_info": {
   "codemirror_mode": {
    "name": "ipython",
    "version": 3
   },
   "file_extension": ".py",
   "mimetype": "text/x-python",
   "name": "python",
   "nbconvert_exporter": "python",
   "pygments_lexer": "ipython3",
   "version": "3.9.12"
  }
 },
 "nbformat": 4,
 "nbformat_minor": 5
}
